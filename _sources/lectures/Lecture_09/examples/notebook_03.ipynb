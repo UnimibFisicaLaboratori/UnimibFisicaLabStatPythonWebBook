{
 "cells": [
  {
   "cell_type": "markdown",
   "id": "ca988499",
   "metadata": {},
   "source": [
    "# Accessing files on disk"
   ]
  },
  {
   "cell_type": "markdown",
   "id": "4981703e",
   "metadata": {},
   "source": [
    "## Loading a user-made library from disk\n",
    "The library file is located in the same folder as the notebook and imported as in any other python source code"
   ]
  },
  {
   "cell_type": "code",
   "execution_count": 6,
   "id": "e66e9949",
   "metadata": {},
   "outputs": [
    {
     "name": "stdout",
     "output_type": "stream",
     "text": [
      "generated  1000 events\n",
      "mean:  0.023788200153723838 ± 0.07650858122328906\n",
      "sigma:  2.4194137721358495\n"
     ]
    }
   ],
   "source": [
    "from myrand import generate_TCL_ms\n",
    "from stats import stats\n",
    "\n",
    "mean = 0.\n",
    "sigma = 2.5\n",
    "N_events = 1000\n",
    "N_TCLsampling = 10\n",
    "\n",
    "randlist = generate_TCL_ms (mean, sigma, N_events, N_TCLsampling)\n",
    "print ('generated ', len (randlist), 'events')\n",
    "mystats = stats (randlist)\n",
    "print ('mean: ', mystats.mean (), '\\u00B1', mystats.sigma_mean ())\n",
    "print ('sigma: ', mystats.sigma ())"
   ]
  },
  {
   "cell_type": "code",
   "execution_count": 7,
   "id": "346da70c",
   "metadata": {},
   "outputs": [],
   "source": [
    "with open ('sample.txt', 'w') as output_file :\n",
    "    for item in randlist:\n",
    "        # write each item on a new line\n",
    "        output_file.write (str (item) + '\\n')"
   ]
  },
  {
   "cell_type": "code",
   "execution_count": 10,
   "id": "62a7ed62",
   "metadata": {},
   "outputs": [
    {
     "name": "stdout",
     "output_type": "stream",
     "text": [
      "read  1000 events\n"
     ]
    }
   ],
   "source": [
    "with open ('sample.txt') as input_file :\n",
    "    sample = [float (x) for x in input_file.readlines()]\n",
    "print ('read ', len (sample), 'events')\n"
   ]
  }
 ],
 "metadata": {
  "kernelspec": {
   "display_name": "Python 3 (ipykernel)",
   "language": "python",
   "name": "python3"
  },
  "language_info": {
   "codemirror_mode": {
    "name": "ipython",
    "version": 3
   },
   "file_extension": ".py",
   "mimetype": "text/x-python",
   "name": "python",
   "nbconvert_exporter": "python",
   "pygments_lexer": "ipython3",
   "version": "3.10.9"
  }
 },
 "nbformat": 4,
 "nbformat_minor": 5
}
