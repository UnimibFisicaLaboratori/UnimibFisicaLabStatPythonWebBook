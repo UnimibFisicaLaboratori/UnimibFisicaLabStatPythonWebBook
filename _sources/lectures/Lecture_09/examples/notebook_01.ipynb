{
 "cells": [
  {
   "cell_type": "markdown",
   "id": "53161463",
   "metadata": {},
   "source": [
    "# This is a notebook example"
   ]
  },
  {
   "cell_type": "markdown",
   "id": "1a152fba",
   "metadata": {},
   "source": [
    "## First python code running in a notebook\n",
    "This specific cell contains a comment and describes the following code,\n",
    "which implements the Pythagoras theorem"
   ]
  },
  {
   "cell_type": "code",
   "execution_count": 1,
   "id": "ae3ebf18",
   "metadata": {},
   "outputs": [
    {
     "name": "stdout",
     "output_type": "stream",
     "text": [
      "testing the Pythagoras theorem:  5.0\n"
     ]
    }
   ],
   "source": [
    "from math import sqrt\n",
    "a = 3.\n",
    "b = 4.\n",
    "print ('testing the Pythagoras theorem: ', sqrt (a**2 + b**2) )"
   ]
  },
  {
   "cell_type": "markdown",
   "id": "db14a142",
   "metadata": {},
   "source": [
    "## Definition of a function within a notebook"
   ]
  },
  {
   "cell_type": "code",
   "execution_count": 3,
   "id": "8079fd35",
   "metadata": {},
   "outputs": [],
   "source": [
    "def Pythagoras (a, b):\n",
    "    return sqrt (a**2 + b**2)"
   ]
  },
  {
   "cell_type": "code",
   "execution_count": 4,
   "id": "5e32e9ee",
   "metadata": {
    "scrolled": true
   },
   "outputs": [
    {
     "name": "stdout",
     "output_type": "stream",
     "text": [
      "testing the Pythagoras theorem function:  5.0\n"
     ]
    }
   ],
   "source": [
    "print ('testing the Pythagoras theorem function: ', Pythagoras (a, b) )"
   ]
  }
 ],
 "metadata": {
  "kernelspec": {
   "display_name": "Python 3 (ipykernel)",
   "language": "python",
   "name": "python3"
  },
  "language_info": {
   "codemirror_mode": {
    "name": "ipython",
    "version": 3
   },
   "file_extension": ".py",
   "mimetype": "text/x-python",
   "name": "python",
   "nbconvert_exporter": "python",
   "pygments_lexer": "ipython3",
   "version": "3.10.9"
  }
 },
 "nbformat": 4,
 "nbformat_minor": 5
}
