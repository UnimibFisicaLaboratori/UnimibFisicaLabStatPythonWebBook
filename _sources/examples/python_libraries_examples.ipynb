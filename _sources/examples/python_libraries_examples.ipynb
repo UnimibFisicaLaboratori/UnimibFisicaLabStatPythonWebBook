{
 "cells": [
  {
   "cell_type": "markdown",
   "metadata": {},
   "source": [
    "# Notable Python Libraries - Examples"
   ]
  },
  {
   "cell_type": "markdown",
   "metadata": {},
   "source": [
    "## `ndarray` vs `list`\n",
    "\n",
    "Let's evaluate the performance difference when working with `ndarray` and `list` objects."
   ]
  },
  {
   "cell_type": "markdown",
   "metadata": {},
   "source": [
    "(examples:numpy:ndarray)=\n",
    "### Filling `ndarray`\n",
    "\n",
    "Due to the memory management involved, it is better to create the `ndarray` once all its elements are defined rather than filling it an event at a time.\n",
    "\n",
    "We will use the `time` library to calculate the elapsed (CPU) time of each operation.\n",
    "\n",
    "First import the libraries"
   ]
  },
  {
   "cell_type": "code",
   "execution_count": 1,
   "metadata": {},
   "outputs": [],
   "source": [
    "import numpy as np\n",
    "import time"
   ]
  },
  {
   "cell_type": "markdown",
   "metadata": {},
   "source": [
    "Then calculate the timing of filling the `ndarray` event-by-event"
   ]
  },
  {
   "cell_type": "code",
   "execution_count": 41,
   "metadata": {},
   "outputs": [
    {
     "name": "stdout",
     "output_type": "stream",
     "text": [
      "It took 4.883ms (CPU: 4.720ms)\n"
     ]
    }
   ],
   "source": [
    "start_time, start_time_cpu = time.time(), time.process_time()\n",
    "X = np.array([])\n",
    "for i in range(10000): \n",
    "    X.fill(i)\n",
    "end_time, end_time_cpu = time.time(), time.process_time()\n",
    "print(f'It took {1000*(end_time-start_time):.3f}ms (CPU: {1000*(end_time_cpu-start_time_cpu):.3f}ms)')"
   ]
  },
  {
   "cell_type": "markdown",
   "metadata": {},
   "source": [
    "Now fill the `ndarray` at once"
   ]
  },
  {
   "cell_type": "code",
   "execution_count": 42,
   "metadata": {},
   "outputs": [
    {
     "name": "stdout",
     "output_type": "stream",
     "text": [
      "It took 1.090ms (CPU: 1.089ms)\n"
     ]
    }
   ],
   "source": [
    "start_time, start_time_cpu = time.time(), time.process_time()\n",
    "x = list(range(10000))\n",
    "X = np.array(x)\n",
    "end_time, end_time_cpu = time.time(), time.process_time()\n",
    "print(f'It took {1000*(end_time-start_time):.3f}ms (CPU: {1000*(end_time_cpu-start_time_cpu):.3f}ms)')"
   ]
  },
  {
   "cell_type": "markdown",
   "metadata": {},
   "source": [
    "(examples:numpy:ndarray_operations)=\n",
    "### Operations with arrays\n",
    "\n",
    "Numeric operations with NumPy arrays are faster (and easier to write) than those involving Python lists. \n",
    "Let's compare the timing and syntax of a term-by-term product of two arrays."
   ]
  },
  {
   "cell_type": "code",
   "execution_count": 40,
   "metadata": {},
   "outputs": [
    {
     "name": "stdout",
     "output_type": "stream",
     "text": [
      "lists multiplication: 28.148ms (CPU: 22.156ms)\n",
      "ndarray multiplication: 1.284ms (CPU: 1.250ms)\n"
     ]
    }
   ],
   "source": [
    "x, y = list(range(10000)), list(range(10000))\n",
    "X, Y = np.array(x), np.array(y)\n",
    "\n",
    "start_time, start_time_cpu = time.time(), time.process_time()\n",
    "z = [ x[i]*y[i] for i in range(len(x)) ]\n",
    "end_time, end_time_cpu = time.time(), time.process_time()\n",
    "print(f'lists multiplication: {1000*(end_time-start_time):.3f}ms (CPU: {1000*(end_time_cpu-start_time_cpu):.3f}ms)')\n",
    "\n",
    "start_time, start_time_cpu = time.time(), time.process_time()\n",
    "Z = X*Y\n",
    "end_time, end_time_cpu = time.time(), time.process_time()\n",
    "print(f'ndarray multiplication: {1000*(end_time-start_time):.3f}ms (CPU: {1000*(end_time_cpu-start_time_cpu):.3f}ms)')"
   ]
  },
  {
   "cell_type": "markdown",
   "metadata": {},
   "source": [
    "Already when dealing with arrays of 10k events, NumPy is 10x faster than built-in Python.\n",
    "Let's see the performance when dealing with 1M events arrays."
   ]
  },
  {
   "cell_type": "code",
   "execution_count": 39,
   "metadata": {},
   "outputs": [
    {
     "name": "stdout",
     "output_type": "stream",
     "text": [
      "lists multiplication: 157.298ms (CPU: 148.046ms)\n",
      "ndarray multiplication: 2.277ms (CPU: 2.491ms)\n"
     ]
    }
   ],
   "source": [
    "x, y = list(range(1000000)), list(range(1000000))\n",
    "X, Y = np.array(x), np.array(y)\n",
    "\n",
    "start_time, start_time_cpu = time.time(), time.process_time()\n",
    "z = [ x[i]*y[i] for i in range(len(x)) ]\n",
    "end_time, end_time_cpu = time.time(), time.process_time()\n",
    "print(f'lists multiplication: {1000*(end_time-start_time):.3f}ms (CPU: {1000*(end_time_cpu-start_time_cpu):.3f}ms)')\n",
    "\n",
    "start_time, start_time_cpu = time.time(), time.process_time()\n",
    "Z = X*Y\n",
    "end_time, end_time_cpu = time.time(), time.process_time()\n",
    "print(f'ndarray multiplication: {1000*(end_time-start_time):.3f}ms (CPU: {1000*(end_time_cpu-start_time_cpu):.3f}ms)')"
   ]
  }
 ],
 "metadata": {
  "kernelspec": {
   "display_name": "jbenv",
   "language": "python",
   "name": "python3"
  },
  "language_info": {
   "codemirror_mode": {
    "name": "ipython",
    "version": 3
   },
   "file_extension": ".py",
   "mimetype": "text/x-python",
   "name": "python",
   "nbconvert_exporter": "python",
   "pygments_lexer": "ipython3",
   "version": "3.11.4"
  },
  "orig_nbformat": 4
 },
 "nbformat": 4,
 "nbformat_minor": 2
}
