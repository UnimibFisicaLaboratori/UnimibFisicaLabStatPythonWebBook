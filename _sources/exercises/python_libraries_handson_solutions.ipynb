{
 "cells": [
  {
   "cell_type": "markdown",
   "metadata": {},
   "source": [
    "# Notable Python Libraries - Hands On"
   ]
  },
  {
   "cell_type": "markdown",
   "metadata": {},
   "source": [
    "## NumPy"
   ]
  },
  {
   "cell_type": "markdown",
   "metadata": {},
   "source": [
    "### `ndarray` multiplication\n",
    "\n",
    "Write a script that calculates the performance improvement (time-wise) when multiplying arrays of $n=10^i$ elements, with $i=0,1,...,7$.\n",
    "Estimate the performance improvement using a function that depends on the number of elements of the arrays.\n",
    "The output of the script should be a sequence that prints the performance improvement corresponding to each considered array size.\n",
    "\n",
    "`````{hint}\n",
    "Prototype the function as\n",
    "```python\n",
    "def ndarray_vs_list_performance_gain(n):\n",
    "    \"\"\"Calculates the time-wise performance gain of a multiplication of two arrays of $n$ elements \n",
    "\n",
    "    Args:\n",
    "        n (int): the size of the array\n",
    "\n",
    "    Returns:\n",
    "        float: the time gain\n",
    "    \"\"\"    \n",
    "    return gain\n",
    "```\n",
    "`````"
   ]
  },
  {
   "cell_type": "code",
   "execution_count": 4,
   "metadata": {},
   "outputs": [],
   "source": [
    "import numpy as np\n",
    "import time\n",
    "def ndarray_vs_list_performance_gain(n):\n",
    "    \"\"\"Calculates the time-wise performance gain of a multiplication of two arrays of $n$ elements \n",
    "\n",
    "    Args:\n",
    "        n (int): the size of the array\n",
    "\n",
    "    Returns:\n",
    "        float: the time gain\n",
    "    \"\"\"\n",
    "    x, y = list(range(n)), list(range(n))\n",
    "    X, Y = np.array(x), np.array(y)\n",
    "    # list multiplication\n",
    "    start_time, start_time_cpu = time.time(), time.process_time()\n",
    "    z = [ x[i]*y[i] for i in range(len(x)) ]\n",
    "    end_time, end_time_cpu = time.time(), time.process_time()\n",
    "    time_lists, cpu_time_lists = end_time-start_time, end_time_cpu-start_time_cpu\n",
    "    # ndarray multiplication\n",
    "    start_time, start_time_cpu = time.time(), time.process_time()\n",
    "    Z = X*Y\n",
    "    end_time, end_time_cpu = time.time(), time.process_time()\n",
    "    time_ndarray, cpu_time_ndarray = end_time-start_time, end_time_cpu-start_time_cpu\n",
    "    return time_lists/time_ndarray, cpu_time_lists/cpu_time_ndarray"
   ]
  },
  {
   "cell_type": "code",
   "execution_count": 11,
   "metadata": {},
   "outputs": [
    {
     "name": "stdout",
     "output_type": "stream",
     "text": [
      "n \t time gain \t cpu time gain\n",
      "1 \t 1.13 \t 1.00\n",
      "10 \t 0.85 \t 0.30\n",
      "100 \t 3.68 \t 3.67\n",
      "1000 \t 6.28 \t 6.08\n",
      "10000 \t 13.09 \t 12.73\n",
      "100000 \t 9.42 \t 7.89\n",
      "1000000 \t 19.16 \t 19.20\n",
      "10000000 \t 14.14 \t 16.64\n"
     ]
    }
   ],
   "source": [
    "time_gains = []\n",
    "for i in range(8):\n",
    "    n = pow(10,i)\n",
    "    perf_gains = ndarray_vs_list_performance_gain(n)\n",
    "    time_gains.append( (n,perf_gains[0], perf_gains[1]))\n",
    "print(f'n \\t time gain \\t cpu time gain')\n",
    "for n, tg, cputg in time_gains:\n",
    "    print(f'{n} \\t {tg:.2f} \\t {cputg:.2f}')"
   ]
  },
  {
   "cell_type": "markdown",
   "metadata": {},
   "source": [
    "```{admonition} Bonus\n",
    ":class: tip\n",
    "We can plot nicer tables with the [`tabulate`](https://pypi.org/project/tabulate/) module\n",
    "```"
   ]
  },
  {
   "cell_type": "code",
   "execution_count": 12,
   "metadata": {},
   "outputs": [
    {
     "data": {
      "text/html": [
       "<table>\n",
       "<thead>\n",
       "<tr><th style=\"text-align: right;\">       n</th><th style=\"text-align: right;\">  time gain</th><th style=\"text-align: right;\">  cpu time gain</th></tr>\n",
       "</thead>\n",
       "<tbody>\n",
       "<tr><td style=\"text-align: right;\">       1</td><td style=\"text-align: right;\">        1.1</td><td style=\"text-align: right;\">            1.0</td></tr>\n",
       "<tr><td style=\"text-align: right;\">      10</td><td style=\"text-align: right;\">        0.9</td><td style=\"text-align: right;\">            0.3</td></tr>\n",
       "<tr><td style=\"text-align: right;\">     100</td><td style=\"text-align: right;\">        3.7</td><td style=\"text-align: right;\">            3.7</td></tr>\n",
       "<tr><td style=\"text-align: right;\">    1000</td><td style=\"text-align: right;\">        6.3</td><td style=\"text-align: right;\">            6.1</td></tr>\n",
       "<tr><td style=\"text-align: right;\">   10000</td><td style=\"text-align: right;\">       13.1</td><td style=\"text-align: right;\">           12.7</td></tr>\n",
       "<tr><td style=\"text-align: right;\">  100000</td><td style=\"text-align: right;\">        9.4</td><td style=\"text-align: right;\">            7.9</td></tr>\n",
       "<tr><td style=\"text-align: right;\"> 1000000</td><td style=\"text-align: right;\">       19.2</td><td style=\"text-align: right;\">           19.2</td></tr>\n",
       "<tr><td style=\"text-align: right;\">10000000</td><td style=\"text-align: right;\">       14.1</td><td style=\"text-align: right;\">           16.6</td></tr>\n",
       "</tbody>\n",
       "</table>"
      ],
      "text/plain": [
       "'<table>\\n<thead>\\n<tr><th style=\"text-align: right;\">       n</th><th style=\"text-align: right;\">  time gain</th><th style=\"text-align: right;\">  cpu time gain</th></tr>\\n</thead>\\n<tbody>\\n<tr><td style=\"text-align: right;\">       1</td><td style=\"text-align: right;\">        1.1</td><td style=\"text-align: right;\">            1.0</td></tr>\\n<tr><td style=\"text-align: right;\">      10</td><td style=\"text-align: right;\">        0.9</td><td style=\"text-align: right;\">            0.3</td></tr>\\n<tr><td style=\"text-align: right;\">     100</td><td style=\"text-align: right;\">        3.7</td><td style=\"text-align: right;\">            3.7</td></tr>\\n<tr><td style=\"text-align: right;\">    1000</td><td style=\"text-align: right;\">        6.3</td><td style=\"text-align: right;\">            6.1</td></tr>\\n<tr><td style=\"text-align: right;\">   10000</td><td style=\"text-align: right;\">       13.1</td><td style=\"text-align: right;\">           12.7</td></tr>\\n<tr><td style=\"text-align: right;\">  100000</td><td style=\"text-align: right;\">        9.4</td><td style=\"text-align: right;\">            7.9</td></tr>\\n<tr><td style=\"text-align: right;\"> 1000000</td><td style=\"text-align: right;\">       19.2</td><td style=\"text-align: right;\">           19.2</td></tr>\\n<tr><td style=\"text-align: right;\">10000000</td><td style=\"text-align: right;\">       14.1</td><td style=\"text-align: right;\">           16.6</td></tr>\\n</tbody>\\n</table>'"
      ]
     },
     "execution_count": 12,
     "metadata": {},
     "output_type": "execute_result"
    }
   ],
   "source": [
    "import tabulate\n",
    "tabulate.tabulate(time_gains, headers=['n','time gain','cpu time gain'], tablefmt='html', floatfmt=\".1f\")"
   ]
  },
  {
   "cell_type": "markdown",
   "metadata": {},
   "source": [
    "### Least Squares linear fit with NumPy\n",
    "\n",
    "Define two arrays corresponding to measurements of two physical quantities $x$ and $y$ and let's assume that the uncertainty on $x$ is negligible with respect to the one on $y$.\n",
    "\n",
    "It is possible to test the hypothesis of a linear relation between $y$ and $x$ by assuming $y = q + mx$, calculating the\n",
    "\n",
    "$$\n",
    "\\chi^2 = \\sum_{i=1}^N \\left( \\frac{y_i - q - mx_i}{\\sigma_y}\\right)^2\n",
    "$$ \n",
    "\n",
    "and solving the system of linear equations defined by\n",
    "\n",
    "$$\n",
    "\\begin{align*}\n",
    "\\frac{\\partial\\chi^2}{\\partial m} &= 0\\\\ \n",
    "\\frac{\\partial\\chi^2}{\\partial q} &= 0\n",
    "\\end{align*}\n",
    "$$\n",
    "\n",
    "that can be written in matrix form as\n",
    "\n",
    "$$\n",
    "\\begin{pmatrix}\n",
    "N & \\sum_{i=1}^Nx_i\\\\\n",
    "\\sum_{i=1}^Nx_i & \\sum_{i=1}^Nx_i^2\n",
    "\\end{pmatrix}\n",
    "\\begin{pmatrix}\n",
    "q\\\\\n",
    "m\n",
    "\\end{pmatrix}=\n",
    "\\begin{pmatrix}\n",
    "\\sum_{i=1}^Ny_i\\\\\n",
    "\\sum_{i=1}^Nx_iy_i\n",
    "\\end{pmatrix}.\n",
    "$$\n",
    "\n",
    "Therefore, if the 2x2 matrix is invertible, the solution of the system of linear equations is\n",
    "\n",
    "$$\n",
    "\\begin{pmatrix}\n",
    "q\\\\\n",
    "m\n",
    "\\end{pmatrix}=\n",
    "\\begin{pmatrix}\n",
    "N & \\sum_{i=1}^Nx_i\\\\\n",
    "\\sum_{i=1}^Nx_i & \\sum_{i=1}^Nx_i^2\n",
    "\\end{pmatrix}^{-1}\n",
    "\\begin{pmatrix}\n",
    "\\sum_{i=1}^Ny_i\\\\\n",
    "\\sum_{i=1}^Nx_iy_i\n",
    "\\end{pmatrix}.\n",
    "$$\n",
    "\n",
    "Write a script to linearly fit a set of *n* data points using this technique."
   ]
  },
  {
   "cell_type": "code",
   "execution_count": 13,
   "metadata": {},
   "outputs": [],
   "source": [
    "# Data points\n",
    "import numpy as np\n",
    "x = np.array([1,2,3,4,5,6])\n",
    "y = np.array([0.8,1.3,1.9,2.5,3.1,3.7])"
   ]
  },
  {
   "cell_type": "code",
   "execution_count": 15,
   "metadata": {},
   "outputs": [
    {
     "name": "stdout",
     "output_type": "stream",
     "text": [
      "A = [[ 6 21]\n",
      " [21 91]];\n",
      "Y = [13.3 56.8]\n"
     ]
    }
   ],
   "source": [
    "# Define the linear system coefficient matrix as A and the expected values as Y\n",
    "A = np.array([[x.size, np.sum(x)],[np.sum(x), np.sum(x*x)]])\n",
    "Y = np.array([np.sum(y),np.sum(x*y)])\n",
    "print(f'A = {A};\\nY = {Y}')"
   ]
  },
  {
   "cell_type": "code",
   "execution_count": 17,
   "metadata": {},
   "outputs": [
    {
     "name": "stdout",
     "output_type": "stream",
     "text": [
      "q = 0.17; m = 0.59\n"
     ]
    }
   ],
   "source": [
    "# Calculate the coefficients X with the inverse of A multiplied by Y\n",
    "X = np.dot(np.linalg.inv(A),Y)\n",
    "print(f'q = {X[0]:.2f}; m = {X[1]:.2f}')"
   ]
  },
  {
   "cell_type": "markdown",
   "metadata": {},
   "source": [
    "\n",
    "### Linear fit comparison\n",
    "\n",
    "Add the function used to perform the linear fit using NumPy and the matrices to a module and write a script that loads this function and the one defined in the previous lesson to compare the fit results on the same dataset."
   ]
  },
  {
   "cell_type": "markdown",
   "metadata": {},
   "source": []
  }
 ],
 "metadata": {
  "kernelspec": {
   "display_name": "jbenv",
   "language": "python",
   "name": "python3"
  },
  "language_info": {
   "codemirror_mode": {
    "name": "ipython",
    "version": 3
   },
   "file_extension": ".py",
   "mimetype": "text/x-python",
   "name": "python",
   "nbconvert_exporter": "python",
   "pygments_lexer": "ipython3",
   "version": "3.11.4"
  },
  "orig_nbformat": 4
 },
 "nbformat": 4,
 "nbformat_minor": 2
}
