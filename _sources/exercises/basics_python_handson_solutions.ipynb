{
 "cells": [
  {
   "cell_type": "markdown",
   "metadata": {},
   "source": [
    "# Basics Python - Hands On"
   ]
  },
  {
   "cell_type": "markdown",
   "metadata": {},
   "source": [
    "## `if` statements"
   ]
  },
  {
   "cell_type": "markdown",
   "metadata": {},
   "source": [
    "### Is `x` divisible by `y`?\n",
    "\n",
    "Write a program that reads an integer given as input from the user and determines whether it is divisible by 2, 3, 5, or 7.\n",
    "Then encapsulate the check into a function taking as input two numbers and write a program that asks the user to insert two numbers and checks whether the first is divisible by the other one (and vice-versa)."
   ]
  },
  {
   "cell_type": "code",
   "execution_count": null,
   "metadata": {},
   "outputs": [],
   "source": [
    "def divisible(x,y):\n",
    "    if x%y == 0:\n",
    "        return True\n",
    "    else:\n",
    "        return False\n",
    "# a = int(input(\"Enter an integer: \"))\n",
    "# b = int(input(\"Enter an integer: \"))\n",
    "a, b= 12,3\n",
    "if divisible(a,b):\n",
    "    print(str(a)+' is divisible by '+str(b))\n",
    "if divisible(b,a):\n",
    "    print(str(b)+' is divisible by '+str(a))"
   ]
  },
  {
   "cell_type": "markdown",
   "metadata": {},
   "source": [
    "\n",
    "### What triangle?\n",
    "\n",
    "Write a program that, given the three sides of a triangle, determines if the triangle is acute-angle, right-angle or obtuse-angle.\n",
    "`````{admonition} Tip\n",
    ":class: tip\n",
    "Remember the Pythagora theorem: $a^2 + b^2 = c^2$\n",
    "`````"
   ]
  },
  {
   "cell_type": "code",
   "execution_count": null,
   "metadata": {},
   "outputs": [],
   "source": [
    "def check_triangle(a,b,c):\n",
    "    asq = a*a\n",
    "    bsq = b*b\n",
    "    csq = c*c\n",
    "    if csq==asq+bsq or asq==csq+bsq or bsq==asq+csq:\n",
    "        print('The triangle is right-angle')\n",
    "    elif csq>asq+bsq or asq>csq+bsq or bsq>asq+csq:\n",
    "        print('The triangle is obtuse-angle')\n",
    "    else:\n",
    "        print('The triangle is acute-angle')\n",
    "a, b, c = 3, 5, 4\n",
    "# a = int(input(\"Enter an integer: \"))\n",
    "# b = int(input(\"Enter an integer: \"))\n",
    "# c = int(input(\"Enter an integer: \"))\n",
    "check_triangle(a,b,c)"
   ]
  },
  {
   "cell_type": "markdown",
   "metadata": {},
   "source": [
    "## `while` statements"
   ]
  },
  {
   "cell_type": "markdown",
   "metadata": {},
   "source": [
    "### Fibonacci - `while`\n",
    "\n",
    "Write a program that, by using a *while* loop, returns the Fibonacci sequence up to the n-th term."
   ]
  },
  {
   "cell_type": "code",
   "execution_count": 1,
   "metadata": {},
   "outputs": [
    {
     "name": "stdout",
     "output_type": "stream",
     "text": [
      "[0, 1, 1, 2, 3, 5, 8, 13, 21, 34]\n"
     ]
    }
   ],
   "source": [
    "i, n = 2, 10\n",
    "fib = [0, 1]\n",
    "while(i < n):\n",
    "    fib+= [fib[-1]+fib[-2]]\n",
    "    i += 1\n",
    "print(fib)"
   ]
  },
  {
   "cell_type": "markdown",
   "metadata": {},
   "source": [
    "### Fibonacci - `for`\n",
    "\n",
    "Write a program that, by using a *for* loop, returns the Fibonacci sequence up to the n-th term."
   ]
  },
  {
   "cell_type": "code",
   "execution_count": 2,
   "metadata": {},
   "outputs": [
    {
     "name": "stdout",
     "output_type": "stream",
     "text": [
      "[0, 1, 1, 2, 3, 5, 8, 13, 21, 34]\n"
     ]
    }
   ],
   "source": [
    "n = 10\n",
    "fib = [0, 1]\n",
    "for i in range(2,n):\n",
    "    fib+= [fib[-1]+fib[-2]]\n",
    "print(fib)"
   ]
  },
  {
   "cell_type": "markdown",
   "metadata": {},
   "source": [
    "## Functions"
   ]
  },
  {
   "cell_type": "markdown",
   "metadata": {},
   "source": [
    "### Fibonacci\n",
    "\n",
    "Define a function that returns the Fibonacci sequence up to the n-th term.\n",
    "\n",
    "`````{hint}\n",
    "The function prototype could be\n",
    "\n",
    "```python\n",
    "def fibonacci(n):\n",
    "    \"\"\"A function that calculates the Fibonacci sequence up to the n-th term\n",
    "\n",
    "    Args:\n",
    "        n (int): the n-th term of the sequence\n",
    "\n",
    "    Returns:\n",
    "        list: a list with the Fibonacci sequence\n",
    "    \"\"\"\n",
    "```\n",
    "`````"
   ]
  },
  {
   "cell_type": "code",
   "execution_count": 7,
   "metadata": {},
   "outputs": [
    {
     "name": "stdout",
     "output_type": "stream",
     "text": [
      "[0, 1, 1, 2, 3, 5, 8, 13, 21, 34]\n"
     ]
    }
   ],
   "source": [
    "def fibonacci(n):\n",
    "    \"\"\"A function that calculates the Fibonacci sequence up to the n-th term\n",
    "\n",
    "    Args:\n",
    "        n (int): the n-th term of the sequence\n",
    "\n",
    "    Returns:\n",
    "        list: a list with the Fibonacci sequence\n",
    "    \"\"\"\n",
    "    assert n >= 0, \"n must be a non-negative integer\"\n",
    "    if n == 0: return [0]\n",
    "    fib = [0,1]\n",
    "    for i in range(n-2):\n",
    "        fib.append(fib[-1]+fib[-2])\n",
    "    return fib\n",
    "print(fibonacci(10))"
   ]
  },
  {
   "cell_type": "markdown",
   "metadata": {},
   "source": [
    "**n.b.** The [`assert`](https://docs.python.org/3/reference/simple_stmts.html#the-assert-statement) statement is used in this solution to check whether the input value is valid or not."
   ]
  },
  {
   "cell_type": "code",
   "execution_count": 8,
   "metadata": {},
   "outputs": [
    {
     "ename": "AssertionError",
     "evalue": "n must be a non-negative integer",
     "output_type": "error",
     "traceback": [
      "\u001b[0;31m---------------------------------------------------------------------------\u001b[0m",
      "\u001b[0;31mAssertionError\u001b[0m                            Traceback (most recent call last)",
      "Cell \u001b[0;32mIn[8], line 1\u001b[0m\n\u001b[0;32m----> 1\u001b[0m fibonacci(\u001b[39m-\u001b[39;49m\u001b[39m2\u001b[39;49m)\n",
      "Cell \u001b[0;32mIn[7], line 10\u001b[0m, in \u001b[0;36mfibonacci\u001b[0;34m(n)\u001b[0m\n\u001b[1;32m      1\u001b[0m \u001b[39mdef\u001b[39;00m \u001b[39mfibonacci\u001b[39m(n):\n\u001b[1;32m      2\u001b[0m \u001b[39m    \u001b[39m\u001b[39m\"\"\"A function that calculates the Fibonacci sequence up to the n-th term\u001b[39;00m\n\u001b[1;32m      3\u001b[0m \n\u001b[1;32m      4\u001b[0m \u001b[39m    Args:\u001b[39;00m\n\u001b[0;32m   (...)\u001b[0m\n\u001b[1;32m      8\u001b[0m \u001b[39m        list: a list with the Fibonacci sequence\u001b[39;00m\n\u001b[1;32m      9\u001b[0m \u001b[39m    \"\"\"\u001b[39;00m\n\u001b[0;32m---> 10\u001b[0m     \u001b[39massert\u001b[39;00m n \u001b[39m>\u001b[39m\u001b[39m=\u001b[39m \u001b[39m0\u001b[39m, \u001b[39m\"\u001b[39m\u001b[39mn must be a non-negative integer\u001b[39m\u001b[39m\"\u001b[39m\n\u001b[1;32m     11\u001b[0m     \u001b[39mif\u001b[39;00m n \u001b[39m==\u001b[39m \u001b[39m0\u001b[39m: \u001b[39mreturn\u001b[39;00m [\u001b[39m0\u001b[39m]\n\u001b[1;32m     12\u001b[0m     fib \u001b[39m=\u001b[39m [\u001b[39m0\u001b[39m,\u001b[39m1\u001b[39m]\n",
      "\u001b[0;31mAssertionError\u001b[0m: n must be a non-negative integer"
     ]
    }
   ],
   "source": [
    "fibonacci(-2)"
   ]
  },
  {
   "cell_type": "markdown",
   "metadata": {},
   "source": []
  }
 ],
 "metadata": {
  "kernelspec": {
   "display_name": "jbenv",
   "language": "python",
   "name": "python3"
  },
  "language_info": {
   "codemirror_mode": {
    "name": "ipython",
    "version": 3
   },
   "file_extension": ".py",
   "mimetype": "text/x-python",
   "name": "python",
   "nbconvert_exporter": "python",
   "pygments_lexer": "ipython3",
   "version": "3.11.4"
  },
  "orig_nbformat": 4
 },
 "nbformat": 4,
 "nbformat_minor": 2
}
